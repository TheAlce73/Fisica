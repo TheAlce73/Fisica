$$html$$
var Plot = require('plotly-notebook-js');
 
var myPlot = Plot.createPlot([{ x: [1,2,3], y: [3,4,5] }], { title: 'Plotly in Tonicdev!' });
 
myPlot.render();
